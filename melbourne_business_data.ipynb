{
 "cells": [
  {
   "cell_type": "code",
   "execution_count": 1,
   "metadata": {},
   "outputs": [],
   "source": [
    "# Dependencies\n",
    "import pandas as pd, requests, json\n",
    "from sodapy import Socrata\n",
    "from pandas_geojson import to_geojson"
   ]
  },
  {
   "cell_type": "code",
   "execution_count": 2,
   "metadata": {},
   "outputs": [],
   "source": [
    "#!pip install pandas-geojson"
   ]
  },
  {
   "cell_type": "code",
   "execution_count": 3,
   "metadata": {},
   "outputs": [
    {
     "name": "stderr",
     "output_type": "stream",
     "text": [
      "WARNING:root:Requests made without an app_token will be subject to strict throttling limits.\n"
     ]
    }
   ],
   "source": [
    "# API call\n",
    "client = Socrata(\"data.melbourne.vic.gov.au\", None)\n",
    "results = client.get(\"xt2y-tnn9\", limit = 100000)"
   ]
  },
  {
   "cell_type": "code",
   "execution_count": 4,
   "metadata": {},
   "outputs": [
    {
     "data": {
      "text/html": [
       "<div>\n",
       "<style scoped>\n",
       "    .dataframe tbody tr th:only-of-type {\n",
       "        vertical-align: middle;\n",
       "    }\n",
       "\n",
       "    .dataframe tbody tr th {\n",
       "        vertical-align: top;\n",
       "    }\n",
       "\n",
       "    .dataframe thead th {\n",
       "        text-align: right;\n",
       "    }\n",
       "</style>\n",
       "<table border=\"1\" class=\"dataframe\">\n",
       "  <thead>\n",
       "    <tr style=\"text-align: right;\">\n",
       "      <th></th>\n",
       "      <th>census_year</th>\n",
       "      <th>block_id</th>\n",
       "      <th>property_id</th>\n",
       "      <th>base_property_id</th>\n",
       "      <th>street_address</th>\n",
       "      <th>clue_small_area</th>\n",
       "      <th>trading_name</th>\n",
       "      <th>industry_anzsic4_code</th>\n",
       "      <th>industry_anzsic4_description</th>\n",
       "      <th>seating_type</th>\n",
       "      <th>number_of_seats</th>\n",
       "      <th>x_coordinate</th>\n",
       "      <th>y_coordinate</th>\n",
       "      <th>geocoded_column</th>\n",
       "    </tr>\n",
       "  </thead>\n",
       "  <tbody>\n",
       "    <tr>\n",
       "      <th>0</th>\n",
       "      <td>2002</td>\n",
       "      <td>2</td>\n",
       "      <td>111467</td>\n",
       "      <td>103973</td>\n",
       "      <td>0 King Street MELBOURNE 3000</td>\n",
       "      <td>Melbourne (CBD)</td>\n",
       "      <td>469-479 King Street MELBOURNE 3000</td>\n",
       "      <td>8921</td>\n",
       "      <td>Zoological and Botanical Gardens Operation</td>\n",
       "      <td>Seats - Indoor</td>\n",
       "      <td>113</td>\n",
       "      <td>144.9595</td>\n",
       "      <td>-37.8206</td>\n",
       "      <td>{'type': 'Point', 'coordinates': [144.9595, -3...</td>\n",
       "    </tr>\n",
       "    <tr>\n",
       "      <th>1</th>\n",
       "      <td>2002</td>\n",
       "      <td>2</td>\n",
       "      <td>111467</td>\n",
       "      <td>103973</td>\n",
       "      <td>0 King Street MELBOURNE 3000</td>\n",
       "      <td>Melbourne (CBD)</td>\n",
       "      <td>469-479 King Street MELBOURNE 3000</td>\n",
       "      <td>8921</td>\n",
       "      <td>Zoological and Botanical Gardens Operation</td>\n",
       "      <td>Seats - Outdoor</td>\n",
       "      <td>38</td>\n",
       "      <td>144.9595</td>\n",
       "      <td>-37.8206</td>\n",
       "      <td>{'type': 'Point', 'coordinates': [144.9595, -3...</td>\n",
       "    </tr>\n",
       "  </tbody>\n",
       "</table>\n",
       "</div>"
      ],
      "text/plain": [
       "  census_year block_id property_id base_property_id  \\\n",
       "0        2002        2      111467           103973   \n",
       "1        2002        2      111467           103973   \n",
       "\n",
       "                 street_address  clue_small_area  \\\n",
       "0  0 King Street MELBOURNE 3000  Melbourne (CBD)   \n",
       "1  0 King Street MELBOURNE 3000  Melbourne (CBD)   \n",
       "\n",
       "                         trading_name industry_anzsic4_code  \\\n",
       "0  469-479 King Street MELBOURNE 3000                  8921   \n",
       "1  469-479 King Street MELBOURNE 3000                  8921   \n",
       "\n",
       "                 industry_anzsic4_description     seating_type  \\\n",
       "0  Zoological and Botanical Gardens Operation   Seats - Indoor   \n",
       "1  Zoological and Botanical Gardens Operation  Seats - Outdoor   \n",
       "\n",
       "  number_of_seats x_coordinate y_coordinate  \\\n",
       "0             113     144.9595     -37.8206   \n",
       "1              38     144.9595     -37.8206   \n",
       "\n",
       "                                     geocoded_column  \n",
       "0  {'type': 'Point', 'coordinates': [144.9595, -3...  \n",
       "1  {'type': 'Point', 'coordinates': [144.9595, -3...  "
      ]
     },
     "execution_count": 4,
     "metadata": {},
     "output_type": "execute_result"
    }
   ],
   "source": [
    "# Create dataframe\n",
    "results_df = pd.DataFrame.from_records(results)\n",
    "results_df.to_csv('melbourne_business_data.csv')\n",
    "results_df.head(2)"
   ]
  },
  {
   "cell_type": "code",
   "execution_count": 5,
   "metadata": {},
   "outputs": [
    {
     "data": {
      "text/plain": [
       "54052"
      ]
     },
     "execution_count": 5,
     "metadata": {},
     "output_type": "execute_result"
    }
   ],
   "source": [
    "len(results_df)"
   ]
  },
  {
   "cell_type": "code",
   "execution_count": 6,
   "metadata": {},
   "outputs": [
    {
     "data": {
      "text/plain": [
       "53990"
      ]
     },
     "execution_count": 6,
     "metadata": {},
     "output_type": "execute_result"
    }
   ],
   "source": [
    "# remove column\n",
    "transformed_result_df = results_df[[\"census_year\", \"clue_small_area\", \"trading_name\", \"industry_anzsic4_description\", \n",
    "                                    \"seating_type\", \"number_of_seats\",\"x_coordinate\", \"y_coordinate\", \"geocoded_column\"]]\n",
    "\n",
    "# drop na\n",
    "transformed_result_df = transformed_result_df.dropna()\n",
    "transformed_result_df.to_csv('cleaned_melbourne_business_data.csv')\n",
    "len(transformed_result_df)"
   ]
  },
  {
   "cell_type": "code",
   "execution_count": 7,
   "metadata": {},
   "outputs": [],
   "source": [
    "# create geojson\n",
    "geo_json = to_geojson(df=transformed_result_df, lat='y_coordinate', lon='x_coordinate',properties=[\"census_year\", \"clue_small_area\", \"trading_name\", \"industry_anzsic4_description\", \"seating_type\", \"number_of_seats\"])\n",
    "# print(geo_json)"
   ]
  },
  {
   "cell_type": "code",
   "execution_count": 8,
   "metadata": {},
   "outputs": [],
   "source": [
    "# save geojson file\n",
    "from geojson import dump\n",
    "with open('data/melbourne_business_data.geojson', 'w') as output_file:\n",
    "    dump(geo_json,output_file)"
   ]
  }
 ],
 "metadata": {
  "kernelspec": {
   "display_name": "Python 3.7.13 ('bootcamp')",
   "language": "python",
   "name": "python3"
  },
  "language_info": {
   "codemirror_mode": {
    "name": "ipython",
    "version": 3
   },
   "file_extension": ".py",
   "mimetype": "text/x-python",
   "name": "python",
   "nbconvert_exporter": "python",
   "pygments_lexer": "ipython3",
   "version": "3.7.13"
  },
  "orig_nbformat": 4,
  "vscode": {
   "interpreter": {
    "hash": "f558debdfaba676aff5dab4f39c140e6991e3cee48166dee3f538a0f8087c214"
   }
  }
 },
 "nbformat": 4,
 "nbformat_minor": 2
}
